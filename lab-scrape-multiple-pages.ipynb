{
 "cells": [
  {
   "cell_type": "markdown",
   "metadata": {},
   "source": [
    "# Lab | Web Scraping Multiple Pages\n",
    "\n",
    "#### Instructions \n",
    "\n",
    "#### Expand the project\n",
    "\n",
    "If you're done, you can try to expand the project on your own. Here are a few suggestions:\n",
    "\n",
    "- Find other lists of hot songs on the internet and scrape them too: having a bigger pool of songs will be awesome!\n",
    "- Apply the same logic to other \"groups\" of songs: the best songs from a decade or from a country / culture / language / genre.\n",
    "- Wikipedia maintains a large collection of lists of songs: https://en.wikipedia.org/wiki/Lists_of_songs"
   ]
  },
  {
   "cell_type": "code",
   "execution_count": 63,
   "metadata": {},
   "outputs": [],
   "source": [
    "import spotipy\n",
    "from spotipy.oauth2 import SpotifyClientCredentials\n",
    "import requests\n",
    "from bs4 import BeautifulSoup\n",
    "import getpass\n",
    "import pandas as pd\n",
    "import re\n",
    "import time"
   ]
  },
  {
   "cell_type": "code",
   "execution_count": 6,
   "metadata": {},
   "outputs": [],
   "source": [
    "client_id = \"31bb38d4d2c54b0e9b994db2a71040d5\"\n",
    "client_secret = getpass.getpass('Write client secret:')"
   ]
  },
  {
   "cell_type": "code",
   "execution_count": 7,
   "metadata": {},
   "outputs": [],
   "source": [
    "sp = spotipy.Spotify(auth_manager=SpotifyClientCredentials(client_id=client_id,\n",
    "                                                           client_secret=client_secret))"
   ]
  },
  {
   "cell_type": "code",
   "execution_count": 43,
   "metadata": {},
   "outputs": [],
   "source": [
    "country_codes= ['AD', 'AR', 'AU', 'AT', 'BE', 'BO', 'BR', 'BG', 'CA', 'CL', \\\n",
    "    'CO', 'CR', 'CY', 'CZ', 'DK', 'DO', 'EC', 'SV', 'EE', 'FI', 'FR', 'DE', \\\n",
    "    'GR', 'GT', 'HN', 'HK', 'HU', 'IS', 'ID', 'IE', 'IT', 'JP', 'LV', 'LI', \\\n",
    "    'LT', 'LU', 'MY', 'MT', 'MX', 'MC', 'NL', 'NZ', 'NI', 'NO', 'PA', 'PY', \\\n",
    "    'PE', 'PH', 'PL', 'PT', 'SG', 'ES', 'SK', 'SE', 'CH', 'TW', 'TR', 'GB', \\\n",
    "    'US', 'UY']"
   ]
  },
  {
   "cell_type": "code",
   "execution_count": 21,
   "metadata": {},
   "outputs": [
    {
     "name": "stdout",
     "output_type": "stream",
     "text": [
      "dict_keys(['message', 'playlists']) \n",
      "\n",
      "Editor's picks \n",
      "\n",
      "dict_keys(['href', 'items', 'limit', 'next', 'offset', 'previous', 'total']) \n",
      "\n",
      "dict_keys(['collaborative', 'description', 'external_urls', 'href', 'id', 'images', 'name', 'owner', 'primary_color', 'public', 'snapshot_id', 'tracks', 'type', 'uri'])\n"
     ]
    }
   ],
   "source": [
    "# Save & explore Spotify featured playlists \n",
    "playlists = sp.featured_playlists(limit=50)\n",
    "\n",
    "print(playlists.keys(), \"\\n\")\n",
    "print(playlists['message'], \"\\n\")\n",
    "print(playlists['playlists'].keys(), \"\\n\")\n",
    "print(playlists['playlists']['items'][0].keys())"
   ]
  },
  {
   "cell_type": "code",
   "execution_count": 60,
   "metadata": {},
   "outputs": [],
   "source": [
    "# Save all Spotify featured playlists worldwide\n",
    "playlists = pd.DataFrame(columns=[\"playlist\", \"playlist_id\"])\n",
    "\n",
    "for country in country_codes:\n",
    "    featured = sp.featured_playlists(country=country, limit=50)\n",
    "    for playlist in featured['playlists']['items']:\n",
    "        playlist_name = playlist[\"name\"]\n",
    "        playlist_id = playlist[\"id\"]\n",
    "        playlists = playlists.append({\"playlist\": playlist_name, \\\n",
    "            \"playlist_id\": playlist_id}, ignore_index=True)\n",
    "\n",
    "playlists.drop_duplicates(inplace=True)"
   ]
  },
  {
   "cell_type": "code",
   "execution_count": 61,
   "metadata": {},
   "outputs": [
    {
     "data": {
      "text/plain": [
       "(452, 2)"
      ]
     },
     "execution_count": 61,
     "metadata": {},
     "output_type": "execute_result"
    }
   ],
   "source": [
    "playlists.shape  # We found 452 unique playlists"
   ]
  },
  {
   "cell_type": "code",
   "execution_count": 62,
   "metadata": {},
   "outputs": [
    {
     "data": {
      "text/plain": [
       "['Sommerhits 2022', '#vainsuomihitit', 'Polskie hity']"
      ]
     },
     "execution_count": 62,
     "metadata": {},
     "output_type": "execute_result"
    }
   ],
   "source": [
    "# Find playlists containing relevant keywords\n",
    "keywords = [\"hot\", \"top\", \"hit\", \"popular\", \"new\", \"chart\"]\n",
    "hot_playlists = []\n",
    "\n",
    "for keyword in keywords:\n",
    "    for playlist in playlists[\"playlist\"]:\n",
    "        if keyword in playlist:\n",
    "            hot_playlists.append(playlist)\n",
    "\n",
    "hot_playlists"
   ]
  },
  {
   "cell_type": "markdown",
   "metadata": {},
   "source": [
    "We don't find a lot of playlists searching per country only, so it might be helpful to use a different database."
   ]
  },
  {
   "cell_type": "code",
   "execution_count": 64,
   "metadata": {},
   "outputs": [],
   "source": [
    "URL = \"https://musicbrainz.org/series/b3484a66-a4de-444d-93d3-c99a73656905\"\n",
    "page = requests.get(URL)\n",
    "\n",
    "soup = BeautifulSoup(page.content)"
   ]
  },
  {
   "cell_type": "code",
   "execution_count": 69,
   "metadata": {},
   "outputs": [],
   "source": [
    "# Scrape the artist names\n",
    "artist_names = []\n",
    "\n",
    "for element in soup.select(\"a[href*=artist]\"): \n",
    "    artist_names.append(element.get_text()) "
   ]
  },
  {
   "cell_type": "code",
   "execution_count": 74,
   "metadata": {},
   "outputs": [],
   "source": [
    "# Scrape the song names\n",
    "song_names = []\n",
    "\n",
    "for element in soup.select(\"a[href*=recording]\"): \n",
    "    song_names.append(element.get_text()) "
   ]
  },
  {
   "cell_type": "code",
   "execution_count": 95,
   "metadata": {},
   "outputs": [],
   "source": [
    "# Scrape all the 500 songs\n",
    "artist_names = []\n",
    "song_names = []\n",
    "\n",
    "for i in range(1, 2):\n",
    "    URL = \"https://musicbrainz.org/series/b3484a66-a4de-444d-93d3-c99a73656905?page=\"\n",
    "    URL += str(i)\n",
    "    page = requests.get(URL)\n",
    "    soup = BeautifulSoup(page.content)\n",
    "\n",
    "    for element in soup.select(\"a[href*=artist]\"): \n",
    "        artist_names.append(\" \".join(element.get_text())) \n",
    "\n",
    "    for element in soup.select(\"a[href*=recording]\"): \n",
    "        song_names.append(element.get_text()) \n",
    "\n",
    "top_500 = pd.DataFrame(list(zip(artist_names, song_names)), columns=[\"artist\", \"song\"])"
   ]
  },
  {
   "cell_type": "code",
   "execution_count": 96,
   "metadata": {},
   "outputs": [
    {
     "name": "stdout",
     "output_type": "stream",
     "text": [
      "104\n",
      "100\n"
     ]
    }
   ],
   "source": [
    "print(len(artist_names))\n",
    "print(len(song_names))"
   ]
  },
  {
   "cell_type": "code",
   "execution_count": null,
   "metadata": {},
   "outputs": [],
   "source": []
  },
  {
   "cell_type": "code",
   "execution_count": 84,
   "metadata": {},
   "outputs": [],
   "source": [
    "top_500.reset_index(drop=True, inplace=True)"
   ]
  },
  {
   "cell_type": "code",
   "execution_count": 90,
   "metadata": {},
   "outputs": [
    {
     "data": {
      "text/plain": [
       "artist    0\n",
       "song      0\n",
       "dtype: int64"
      ]
     },
     "execution_count": 90,
     "metadata": {},
     "output_type": "execute_result"
    }
   ],
   "source": [
    "top_500.isna().sum()"
   ]
  }
 ],
 "metadata": {
  "interpreter": {
   "hash": "916dbcbb3f70747c44a77c7bcd40155683ae19c65e1c03b4aa3499c5328201f1"
  },
  "kernelspec": {
   "display_name": "Python 3.8.10 64-bit",
   "language": "python",
   "name": "python3"
  },
  "language_info": {
   "codemirror_mode": {
    "name": "ipython",
    "version": 3
   },
   "file_extension": ".py",
   "mimetype": "text/x-python",
   "name": "python",
   "nbconvert_exporter": "python",
   "pygments_lexer": "ipython3",
   "version": "3.8.10"
  },
  "orig_nbformat": 4
 },
 "nbformat": 4,
 "nbformat_minor": 2
}
