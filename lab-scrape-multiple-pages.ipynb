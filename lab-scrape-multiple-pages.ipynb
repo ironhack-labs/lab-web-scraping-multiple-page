{
 "cells": [
  {
   "cell_type": "markdown",
   "metadata": {},
   "source": [
    "# Lab | Web Scraping Multiple Pages\n",
    "\n",
    "#### Instructions \n",
    "\n",
    "#### Expand the project\n",
    "\n",
    "If you're done, you can try to expand the project on your own. Here are a few suggestions:\n",
    "\n",
    "- Find other lists of hot songs on the internet and scrape them too: having a bigger pool of songs will be awesome!\n",
    "- Apply the same logic to other \"groups\" of songs: the best songs from a decade or from a country / culture / language / genre.\n",
    "- Wikipedia maintains a large collection of lists of songs: https://en.wikipedia.org/wiki/Lists_of_songs"
   ]
  },
  {
   "cell_type": "code",
   "execution_count": 2,
   "metadata": {},
   "outputs": [],
   "source": [
    "import spotipy\n",
    "from spotipy.oauth2 import SpotifyClientCredentials\n",
    "import requests\n",
    "from bs4 import BeautifulSoup\n",
    "import getpass\n",
    "import pandas as pd\n",
    "import re"
   ]
  },
  {
   "cell_type": "code",
   "execution_count": 3,
   "metadata": {},
   "outputs": [],
   "source": [
    "client_id = \"31bb38d4d2c54b0e9b994db2a71040d5\"\n",
    "client_secret = getpass.getpass('Write client secret:')"
   ]
  },
  {
   "cell_type": "code",
   "execution_count": 4,
   "metadata": {},
   "outputs": [],
   "source": [
    "sp = spotipy.Spotify(auth_manager=SpotifyClientCredentials(client_id=client_id,\n",
    "                                                           client_secret=client_secret))"
   ]
  },
  {
   "cell_type": "code",
   "execution_count": 5,
   "metadata": {},
   "outputs": [],
   "source": [
    "country_codes= ['AD', 'AR', 'AU', 'AT', 'BE', 'BO', 'BR', 'BG', 'CA', 'CL', \\\n",
    "    'CO', 'CR', 'CY', 'CZ', 'DK', 'DO', 'EC', 'SV', 'EE', 'FI', 'FR', 'DE', \\\n",
    "    'GR', 'GT', 'HN', 'HK', 'HU', 'IS', 'ID', 'IE', 'IT', 'JP', 'LV', 'LI', \\\n",
    "    'LT', 'LU', 'MY', 'MT', 'MX', 'MC', 'NL', 'NZ', 'NI', 'NO', 'PA', 'PY', \\\n",
    "    'PE', 'PH', 'PL', 'PT', 'SG', 'ES', 'SK', 'SE', 'CH', 'TW', 'TR', 'GB', \\\n",
    "    'US', 'UY']"
   ]
  },
  {
   "cell_type": "code",
   "execution_count": 6,
   "metadata": {},
   "outputs": [
    {
     "name": "stdout",
     "output_type": "stream",
     "text": [
      "dict_keys(['message', 'playlists']) \n",
      "\n",
      "Editor's picks \n",
      "\n",
      "dict_keys(['href', 'items', 'limit', 'next', 'offset', 'previous', 'total']) \n",
      "\n",
      "dict_keys(['collaborative', 'description', 'external_urls', 'href', 'id', 'images', 'name', 'owner', 'primary_color', 'public', 'snapshot_id', 'tracks', 'type', 'uri'])\n"
     ]
    }
   ],
   "source": [
    "# Save & explore Spotify featured playlists \n",
    "playlists = sp.featured_playlists(limit=50)\n",
    "\n",
    "print(playlists.keys(), \"\\n\")\n",
    "print(playlists['message'], \"\\n\")\n",
    "print(playlists['playlists'].keys(), \"\\n\")\n",
    "print(playlists['playlists']['items'][0].keys())"
   ]
  },
  {
   "cell_type": "code",
   "execution_count": 7,
   "metadata": {},
   "outputs": [],
   "source": [
    "# Save all Spotify featured playlists worldwide\n",
    "playlists = pd.DataFrame(columns=[\"playlist\", \"playlist_id\"])\n",
    "\n",
    "for country in country_codes:\n",
    "    featured = sp.featured_playlists(country=country, limit=50)\n",
    "    for playlist in featured['playlists']['items']:\n",
    "        playlist_name = playlist[\"name\"]\n",
    "        playlist_id = playlist[\"id\"]\n",
    "        playlists = playlists.append({\"playlist\": playlist_name, \\\n",
    "            \"playlist_id\": playlist_id}, ignore_index=True)\n",
    "\n",
    "playlists.drop_duplicates(inplace=True)"
   ]
  },
  {
   "cell_type": "code",
   "execution_count": 61,
   "metadata": {},
   "outputs": [
    {
     "data": {
      "text/plain": [
       "(452, 2)"
      ]
     },
     "execution_count": 61,
     "metadata": {},
     "output_type": "execute_result"
    }
   ],
   "source": [
    "playlists.shape  # We found 452 unique playlists"
   ]
  },
  {
   "cell_type": "code",
   "execution_count": 8,
   "metadata": {},
   "outputs": [
    {
     "data": {
      "text/plain": [
       "['Sommerhits 2022', '#vainsuomihitit', 'Polskie hity']"
      ]
     },
     "execution_count": 8,
     "metadata": {},
     "output_type": "execute_result"
    }
   ],
   "source": [
    "# Find playlists containing relevant keywords\n",
    "keywords = [\"hot\", \"top\", \"hit\", \"popular\", \"new\", \"chart\"]\n",
    "hot_playlists = []\n",
    "\n",
    "for keyword in keywords:\n",
    "    for playlist in playlists[\"playlist\"]:\n",
    "        if keyword in playlist:\n",
    "            hot_playlists.append(playlist)\n",
    "\n",
    "hot_playlists"
   ]
  },
  {
   "cell_type": "markdown",
   "metadata": {},
   "source": [
    "We don't find a lot of playlists searching per country only, so it might be helpful to use a different database."
   ]
  },
  {
   "cell_type": "code",
   "execution_count": 9,
   "metadata": {},
   "outputs": [],
   "source": [
    "URL = \"https://musicbrainz.org/series/b3484a66-a4de-444d-93d3-c99a73656905\"\n",
    "page = requests.get(URL)\n",
    "\n",
    "soup = BeautifulSoup(page.content)"
   ]
  },
  {
   "cell_type": "code",
   "execution_count": 10,
   "metadata": {},
   "outputs": [],
   "source": [
    "# Scrape the artist names\n",
    "artist_names = []\n",
    "\n",
    "for element in soup.select(\"a[href*=artist]\"): \n",
    "    artist_names.append(element.get_text()) "
   ]
  },
  {
   "cell_type": "code",
   "execution_count": 11,
   "metadata": {},
   "outputs": [],
   "source": [
    "# Scrape the song names\n",
    "song_names = []\n",
    "\n",
    "for element in soup.select(\"a[href*=recording]\"): \n",
    "    song_names.append(element.get_text()) "
   ]
  },
  {
   "cell_type": "code",
   "execution_count": 36,
   "metadata": {},
   "outputs": [],
   "source": [
    "# Scrape all the 500 songs\n",
    "artist_names = []\n",
    "song_names = []\n",
    "\n",
    "for i in range(1, 7):\n",
    "    URL = \"https://musicbrainz.org/series/b3484a66-a4de-444d-93d3-c99a73656905?page=\"\n",
    "    URL += str(i)\n",
    "    page = requests.get(URL)\n",
    "    soup = BeautifulSoup(page.content)\n",
    "    rows = soup.table.find_all(\"tr\")\n",
    "\n",
    "    for row in rows:\n",
    "\n",
    "        # Skip the header row\n",
    "        if row == rows[0]:\n",
    "            continue\n",
    "        else: \n",
    "            # Select all artist containers\n",
    "            artist_containers = row.select(\"a[href*=artist]\")\n",
    "\n",
    "            # Extract the artist names from containers and add them to a list\n",
    "            artists = []\n",
    "            for artist_container in artist_containers:\n",
    "                artist = artist_container.get_text()\n",
    "                artists.append(artist)\n",
    "\n",
    "            # Combine the artist names\n",
    "            artist_name = \" and \".join(artists)\n",
    "            artist_names.append(artist_name) \n",
    "\n",
    "            # Follow the same procedure for songs\n",
    "            song_containers = row.select(\"a[href*=recording]\")\n",
    "            songs = []\n",
    "            for song_container in song_containers:\n",
    "                song = song_container.get_text()\n",
    "                songs.append(song)\n",
    "            song_name = \" and \".join(songs)\n",
    "            song_names.append(song_name)\n",
    "        \n",
    "top_500 = pd.DataFrame(list(zip(artist_names, song_names)), columns=[\"artist\", \"song\"])"
   ]
  },
  {
   "cell_type": "code",
   "execution_count": 37,
   "metadata": {},
   "outputs": [],
   "source": [
    "top_500.reset_index(drop=True, inplace=True)"
   ]
  },
  {
   "cell_type": "code",
   "execution_count": 39,
   "metadata": {},
   "outputs": [
    {
     "data": {
      "text/html": [
       "<div>\n",
       "<style scoped>\n",
       "    .dataframe tbody tr th:only-of-type {\n",
       "        vertical-align: middle;\n",
       "    }\n",
       "\n",
       "    .dataframe tbody tr th {\n",
       "        vertical-align: top;\n",
       "    }\n",
       "\n",
       "    .dataframe thead th {\n",
       "        text-align: right;\n",
       "    }\n",
       "</style>\n",
       "<table border=\"1\" class=\"dataframe\">\n",
       "  <thead>\n",
       "    <tr style=\"text-align: right;\">\n",
       "      <th></th>\n",
       "      <th>artist</th>\n",
       "      <th>song</th>\n",
       "    </tr>\n",
       "  </thead>\n",
       "  <tbody>\n",
       "    <tr>\n",
       "      <th>496</th>\n",
       "      <td>The Rolling Stones</td>\n",
       "      <td>Miss You</td>\n",
       "    </tr>\n",
       "    <tr>\n",
       "      <th>497</th>\n",
       "      <td>Weezer</td>\n",
       "      <td>Buddy Holly</td>\n",
       "    </tr>\n",
       "    <tr>\n",
       "      <th>498</th>\n",
       "      <td>Brook Benton</td>\n",
       "      <td>Rainy Night in Georgia</td>\n",
       "    </tr>\n",
       "    <tr>\n",
       "      <th>499</th>\n",
       "      <td>Thin Lizzy</td>\n",
       "      <td>The Boys Are Back in Town</td>\n",
       "    </tr>\n",
       "    <tr>\n",
       "      <th>500</th>\n",
       "      <td>Boston</td>\n",
       "      <td>More Than a Feeling</td>\n",
       "    </tr>\n",
       "  </tbody>\n",
       "</table>\n",
       "</div>"
      ],
      "text/plain": [
       "                 artist                       song\n",
       "496  The Rolling Stones                   Miss You\n",
       "497              Weezer                Buddy Holly\n",
       "498        Brook Benton     Rainy Night in Georgia\n",
       "499          Thin Lizzy  The Boys Are Back in Town\n",
       "500              Boston        More Than a Feeling"
      ]
     },
     "execution_count": 39,
     "metadata": {},
     "output_type": "execute_result"
    }
   ],
   "source": [
    "top_500.tail()"
   ]
  }
 ],
 "metadata": {
  "interpreter": {
   "hash": "916dbcbb3f70747c44a77c7bcd40155683ae19c65e1c03b4aa3499c5328201f1"
  },
  "kernelspec": {
   "display_name": "Python 3.8.10 64-bit",
   "language": "python",
   "name": "python3"
  },
  "language_info": {
   "codemirror_mode": {
    "name": "ipython",
    "version": 3
   },
   "file_extension": ".py",
   "mimetype": "text/x-python",
   "name": "python",
   "nbconvert_exporter": "python",
   "pygments_lexer": "ipython3",
   "version": "3.8.10"
  },
  "orig_nbformat": 4
 },
 "nbformat": 4,
 "nbformat_minor": 2
}
