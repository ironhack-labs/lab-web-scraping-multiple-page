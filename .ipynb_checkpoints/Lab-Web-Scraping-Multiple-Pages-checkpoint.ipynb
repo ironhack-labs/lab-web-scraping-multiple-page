{
 "cells": [
  {
   "cell_type": "code",
   "execution_count": 1,
   "id": "20f11f18",
   "metadata": {},
   "outputs": [],
   "source": [
    "# Importing library\n",
    "import pandas as pd\n",
    "import requests\n",
    "from bs4 import BeautifulSoup"
   ]
  },
  {
   "cell_type": "markdown",
   "id": "671bceb4",
   "metadata": {},
   "source": [
    "# Exercise 1"
   ]
  },
  {
   "cell_type": "code",
   "execution_count": 2,
   "id": "60f50717",
   "metadata": {},
   "outputs": [
    {
     "data": {
      "text/plain": [
       "<Response [200]>"
      ]
     },
     "execution_count": 2,
     "metadata": {},
     "output_type": "execute_result"
    }
   ],
   "source": [
    "# URL\n",
    "url = \"http://uscode.house.gov/download/download.shtml\"\n",
    "\n",
    "# Get the response\n",
    "response_1 = requests.get(url)\n",
    "response_1"
   ]
  },
  {
   "cell_type": "code",
   "execution_count": 3,
   "id": "90e4d6e6",
   "metadata": {},
   "outputs": [],
   "source": [
    "# Getting the soup\n",
    "soup_1 = BeautifulSoup(response_1.content, \"html.parser\")"
   ]
  },
  {
   "cell_type": "code",
   "execution_count": 4,
   "id": "9aae905f",
   "metadata": {},
   "outputs": [],
   "source": [
    "# Finding all by tag and class\n",
    "titles_changed = soup_1.find_all(name = \"div\", class_ = \"usctitlechanged\")"
   ]
  },
  {
   "cell_type": "code",
   "execution_count": 5,
   "id": "1ae79e80",
   "metadata": {},
   "outputs": [
    {
     "data": {
      "text/plain": [
       "['Title 25 - Indians',\n",
       " 'Title 26 - Internal Revenue Code',\n",
       " 'Title 49 - Transportation ٭',\n",
       " 'Title 51 - National and Commercial Space Programs ٭']"
      ]
     },
     "execution_count": 5,
     "metadata": {},
     "output_type": "execute_result"
    }
   ],
   "source": [
    "# Getting the titles in bolt\n",
    "titles = [bolt.text.strip() for bolt in titles_changed]\n",
    "titles"
   ]
  },
  {
   "cell_type": "code",
   "execution_count": 6,
   "id": "2bed511c",
   "metadata": {},
   "outputs": [
    {
     "name": "stdout",
     "output_type": "stream",
     "text": [
      "Number of titles that have changed in the United States Code since its last release point: 4\n"
     ]
    }
   ],
   "source": [
    "print(\"Number of titles that have changed in the United States Code since its last release point:\", len(titles))"
   ]
  },
  {
   "cell_type": "markdown",
   "id": "a550ebe8",
   "metadata": {},
   "source": [
    "# Exercise 2"
   ]
  },
  {
   "cell_type": "code",
   "execution_count": 7,
   "id": "d0718479",
   "metadata": {},
   "outputs": [
    {
     "data": {
      "text/plain": [
       "<Response [200]>"
      ]
     },
     "execution_count": 7,
     "metadata": {},
     "output_type": "execute_result"
    }
   ],
   "source": [
    "# URL\n",
    "url = \"https://data.gov.uk/\"\n",
    "\n",
    "# Get the response\n",
    "response_2 = requests.get(url)\n",
    "response_2"
   ]
  },
  {
   "cell_type": "code",
   "execution_count": 8,
   "id": "20209fab",
   "metadata": {},
   "outputs": [],
   "source": [
    "# Getting the soup\n",
    "soup_2 = BeautifulSoup(response_2.content, \"html.parser\")"
   ]
  },
  {
   "cell_type": "code",
   "execution_count": 9,
   "id": "24f03b2c",
   "metadata": {},
   "outputs": [],
   "source": [
    "# Finding all by tag and class\n",
    "datasets_available = soup_2.find_all(name = \"h3\", class_ = \"govuk-heading-s dgu-topics__heading\")"
   ]
  },
  {
   "cell_type": "code",
   "execution_count": 10,
   "id": "145f96cb",
   "metadata": {},
   "outputs": [
    {
     "data": {
      "text/plain": [
       "['Business and economy',\n",
       " 'Crime and justice',\n",
       " 'Defence',\n",
       " 'Education',\n",
       " 'Environment',\n",
       " 'Government',\n",
       " 'Government spending',\n",
       " 'Health',\n",
       " 'Mapping',\n",
       " 'Society',\n",
       " 'Towns and cities',\n",
       " 'Transport',\n",
       " 'Digital service performance',\n",
       " 'Government reference data']"
      ]
     },
     "execution_count": 10,
     "metadata": {},
     "output_type": "execute_result"
    }
   ],
   "source": [
    "# Getting the names in a list\n",
    "names = [data.text.strip() for data in datasets_available]\n",
    "names"
   ]
  },
  {
   "cell_type": "markdown",
   "id": "12f7ac02",
   "metadata": {},
   "source": [
    "# Exercise 3"
   ]
  },
  {
   "cell_type": "code",
   "execution_count": 11,
   "id": "8e67bc09",
   "metadata": {},
   "outputs": [
    {
     "data": {
      "text/plain": [
       "<Response [200]>"
      ]
     },
     "execution_count": 11,
     "metadata": {},
     "output_type": "execute_result"
    }
   ],
   "source": [
    "# URL\n",
    "url = \"https://en.wikipedia.org/wiki/List_of_languages_by_number_of_native_speakers\"\n",
    "\n",
    "# Get the response\n",
    "response_3 = requests.get(url)\n",
    "response_3"
   ]
  },
  {
   "cell_type": "code",
   "execution_count": 12,
   "id": "942415c8",
   "metadata": {},
   "outputs": [],
   "source": [
    "# Getting the soup\n",
    "soup_3 = BeautifulSoup(response_3.content, \"html.parser\")"
   ]
  },
  {
   "cell_type": "code",
   "execution_count": 13,
   "id": "502245dc",
   "metadata": {},
   "outputs": [],
   "source": [
    "# Finding all by tag and class\n",
    "table = soup_3.find_all(name = \"a\", class_ = \"mw-redirect\")"
   ]
  },
  {
   "cell_type": "code",
   "execution_count": 14,
   "id": "2ba0c1a6",
   "metadata": {},
   "outputs": [
    {
     "data": {
      "text/plain": [
       "['Mandarin Chinese',\n",
       " 'Spanish',\n",
       " 'English',\n",
       " 'Hindi',\n",
       " 'Portuguese',\n",
       " 'Bengali',\n",
       " 'Russian',\n",
       " 'Japanese',\n",
       " 'Yue Chinese',\n",
       " 'Vietnamese']"
      ]
     },
     "execution_count": 14,
     "metadata": {},
     "output_type": "execute_result"
    }
   ],
   "source": [
    "names = [languages.text.strip() for languages in table]\n",
    "names[3:13]"
   ]
  },
  {
   "cell_type": "code",
   "execution_count": 15,
   "id": "cc30e398",
   "metadata": {},
   "outputs": [],
   "source": [
    "# Ranking\n",
    "language_rank = []\n",
    "for _ in range(1,11):\n",
    "    language_rank.append(_)"
   ]
  },
  {
   "cell_type": "code",
   "execution_count": 16,
   "id": "18a34afb",
   "metadata": {},
   "outputs": [
    {
     "data": {
      "text/html": [
       "<div>\n",
       "<style scoped>\n",
       "    .dataframe tbody tr th:only-of-type {\n",
       "        vertical-align: middle;\n",
       "    }\n",
       "\n",
       "    .dataframe tbody tr th {\n",
       "        vertical-align: top;\n",
       "    }\n",
       "\n",
       "    .dataframe thead th {\n",
       "        text-align: right;\n",
       "    }\n",
       "</style>\n",
       "<table border=\"1\" class=\"dataframe\">\n",
       "  <thead>\n",
       "    <tr style=\"text-align: right;\">\n",
       "      <th></th>\n",
       "      <th>Rank</th>\n",
       "      <th>Top languages with at least 50 million first-language speakers</th>\n",
       "    </tr>\n",
       "  </thead>\n",
       "  <tbody>\n",
       "    <tr>\n",
       "      <th>0</th>\n",
       "      <td>1</td>\n",
       "      <td>Mandarin Chinese</td>\n",
       "    </tr>\n",
       "    <tr>\n",
       "      <th>1</th>\n",
       "      <td>2</td>\n",
       "      <td>Spanish</td>\n",
       "    </tr>\n",
       "    <tr>\n",
       "      <th>2</th>\n",
       "      <td>3</td>\n",
       "      <td>English</td>\n",
       "    </tr>\n",
       "    <tr>\n",
       "      <th>3</th>\n",
       "      <td>4</td>\n",
       "      <td>Hindi</td>\n",
       "    </tr>\n",
       "    <tr>\n",
       "      <th>4</th>\n",
       "      <td>5</td>\n",
       "      <td>Portuguese</td>\n",
       "    </tr>\n",
       "    <tr>\n",
       "      <th>5</th>\n",
       "      <td>6</td>\n",
       "      <td>Bengali</td>\n",
       "    </tr>\n",
       "    <tr>\n",
       "      <th>6</th>\n",
       "      <td>7</td>\n",
       "      <td>Russian</td>\n",
       "    </tr>\n",
       "    <tr>\n",
       "      <th>7</th>\n",
       "      <td>8</td>\n",
       "      <td>Japanese</td>\n",
       "    </tr>\n",
       "    <tr>\n",
       "      <th>8</th>\n",
       "      <td>9</td>\n",
       "      <td>Yue Chinese</td>\n",
       "    </tr>\n",
       "    <tr>\n",
       "      <th>9</th>\n",
       "      <td>10</td>\n",
       "      <td>Vietnamese</td>\n",
       "    </tr>\n",
       "  </tbody>\n",
       "</table>\n",
       "</div>"
      ],
      "text/plain": [
       "   Rank Top languages with at least 50 million first-language speakers\n",
       "0     1                                   Mandarin Chinese            \n",
       "1     2                                            Spanish            \n",
       "2     3                                            English            \n",
       "3     4                                              Hindi            \n",
       "4     5                                         Portuguese            \n",
       "5     6                                            Bengali            \n",
       "6     7                                            Russian            \n",
       "7     8                                           Japanese            \n",
       "8     9                                        Yue Chinese            \n",
       "9    10                                         Vietnamese            "
      ]
     },
     "execution_count": 16,
     "metadata": {},
     "output_type": "execute_result"
    }
   ],
   "source": [
    "# Creating a dataframe\n",
    "df = pd.DataFrame({\n",
    "    \"Rank\" : language_rank,\n",
    "    \"Top languages with at least 50 million first-language speakers\" : names[3:13],\n",
    "})\n",
    "df"
   ]
  }
 ],
 "metadata": {
  "kernelspec": {
   "display_name": "Python 3 (ipykernel)",
   "language": "python",
   "name": "python3"
  },
  "language_info": {
   "codemirror_mode": {
    "name": "ipython",
    "version": 3
   },
   "file_extension": ".py",
   "mimetype": "text/x-python",
   "name": "python",
   "nbconvert_exporter": "python",
   "pygments_lexer": "ipython3",
   "version": "3.11.4"
  }
 },
 "nbformat": 4,
 "nbformat_minor": 5
}
